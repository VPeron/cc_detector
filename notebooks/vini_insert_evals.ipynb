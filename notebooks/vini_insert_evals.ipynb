{
 "cells": [
  {
   "cell_type": "code",
   "execution_count": 1,
   "id": "6251047b",
   "metadata": {},
   "outputs": [],
   "source": [
    "from stockfish import Stockfish\n",
    "import chess.pgn\n",
    "import io"
   ]
  },
  {
   "cell_type": "code",
   "execution_count": 2,
   "id": "ac3861b3",
   "metadata": {},
   "outputs": [],
   "source": [
    "# stockfish init\n",
    "stockfish = Stockfish(\n",
    "    '/home/vini/Personal/test_project/stockfish_14_linux_x64/stockfish_14_linux_x64/stockfish_14_x64', \n",
    "    parameters={\"Threads\": 2, 'Min Split Depth': 20, 'Ponder':True}\n",
    ")\n",
    "stockfish.set_elo_rating(2600)\n",
    "stockfish.set_skill_level(30)"
   ]
  },
  {
   "cell_type": "markdown",
   "id": "e52045a6",
   "metadata": {},
   "source": [
    "# read game"
   ]
  },
  {
   "cell_type": "code",
   "execution_count": 3,
   "id": "fb14fcb3",
   "metadata": {},
   "outputs": [],
   "source": [
    "file_name = \"../raw_data/Fics_data_pc_data.pgn\"\n",
    "pgn = open(file_name, encoding='UTF-8')"
   ]
  },
  {
   "cell_type": "code",
   "execution_count": 4,
   "id": "70814efb",
   "metadata": {},
   "outputs": [],
   "source": [
    "def write_file():\n",
    "    game_headers, game_moves = str(game).split('\\n\\n')\n",
    "    game_moves = str(game_moves).split('(')[1].split(')')[0]\n",
    "    # print(headers)\n",
    "    # print(game_moves)\n",
    "    current_game = game_headers+'\\n\\n'+game_moves\n",
    "    # print(current_game)\n",
    "\n",
    "    # current_game = current_game.decode('utf-8')\n",
    "    current_game = io.StringIO(current_game)\n",
    "    current_game = chess.pgn.read_game(current_game)\n",
    "\n",
    "    new_game = open(\"fics_evals.pgn\", \"a\", encoding=\"utf-8\")\n",
    "    exporter = chess.pgn.FileExporter(new_game)\n",
    "    current_game.accept(exporter)"
   ]
  },
  {
   "cell_type": "code",
   "execution_count": 5,
   "id": "ac66af2b",
   "metadata": {},
   "outputs": [
    {
     "name": "stdout",
     "output_type": "stream",
     "text": [
      "19\n"
     ]
    }
   ],
   "source": [
    "game_counter = 0\n",
    "while True:\n",
    "    try:\n",
    "        game_counter += 1\n",
    "        game = chess.pgn.read_game(pgn)\n",
    "        board = game.board()\n",
    "        moves = list(game.mainline_moves())\n",
    "        if len(moves) > 5:\n",
    "            node = game.add_variation(moves[0])\n",
    "            # print(node)\n",
    "            game_counter = 0\n",
    "            for move in moves:\n",
    "                game_counter += 1\n",
    "                stockfish.set_fen_position(board.fen())\n",
    "                eval_ = stockfish.get_evaluation()\n",
    "\n",
    "                if game_counter == 1:\n",
    "                    node.comment = '[%eval '+str(eval_['value'])+'] [%clk 0:10:00]'\n",
    "                else:\n",
    "                    node = node.add_variation(move)\n",
    "                    node.comment = '[%eval '+str(eval_['value'])+'] [%clk 0:10:00]'\n",
    "                board.push(move)\n",
    "            write_file()\n",
    "    except AttributeError:\n",
    "        break\n",
    "print(game_counter)"
   ]
  },
  {
   "cell_type": "code",
   "execution_count": null,
   "id": "2ba70883",
   "metadata": {},
   "outputs": [],
   "source": []
  }
 ],
 "metadata": {
  "kernelspec": {
   "display_name": "Python 3 (ipykernel)",
   "language": "python",
   "name": "python3"
  },
  "language_info": {
   "codemirror_mode": {
    "name": "ipython",
    "version": 3
   },
   "file_extension": ".py",
   "mimetype": "text/x-python",
   "name": "python",
   "nbconvert_exporter": "python",
   "pygments_lexer": "ipython3",
   "version": "3.8.6"
  },
  "toc": {
   "base_numbering": 1,
   "nav_menu": {},
   "number_sections": true,
   "sideBar": true,
   "skip_h1_title": false,
   "title_cell": "Table of Contents",
   "title_sidebar": "Contents",
   "toc_cell": false,
   "toc_position": {},
   "toc_section_display": true,
   "toc_window_display": false
  }
 },
 "nbformat": 4,
 "nbformat_minor": 5
}

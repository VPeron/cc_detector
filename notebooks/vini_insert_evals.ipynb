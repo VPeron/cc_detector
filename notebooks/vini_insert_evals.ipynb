{
 "cells": [
  {
   "cell_type": "code",
   "execution_count": 1,
   "id": "6251047b",
   "metadata": {},
   "outputs": [],
   "source": [
    "from stockfish import Stockfish\n",
    "import chess.pgn\n",
    "\n",
    "import matplotlib.pyplot as plt\n",
    "import seaborn as sns\n",
    "import numpy as np\n",
    "import pandas as pd"
   ]
  },
  {
   "cell_type": "code",
   "execution_count": 24,
   "id": "ac3861b3",
   "metadata": {},
   "outputs": [],
   "source": [
    "# stockfish init\n",
    "stockfish = Stockfish(\n",
    "    '/home/vini/Personal/test_project/stockfish_14_linux_x64/stockfish_14_linux_x64/stockfish_14_x64', \n",
    "    parameters={\"Threads\": 2, 'Min Split Depth': 26, 'Ponder':True}\n",
    ")\n",
    "stockfish.set_elo_rating(2600)\n",
    "stockfish.set_skill_level(30)"
   ]
  },
  {
   "cell_type": "code",
   "execution_count": 67,
   "id": "c1fc5e33",
   "metadata": {},
   "outputs": [],
   "source": [
    "# read game\n",
    "def read_pgn(game_num=1):\n",
    "    file_name = \"../raw_data/Fics_data_pc_data.pgn\"\n",
    "#     with open(file_name) as pgn:\n",
    "    pgn = open(file_name, encoding='UTF-8')\n",
    "    \n",
    "    \n",
    "    game_counter = 0\n",
    "    \n",
    "    while True:\n",
    "        try:\n",
    "            game_counter += 1\n",
    "            game = chess.pgn.read_game(pgn)\n",
    "\n",
    "            board = game.board()\n",
    "            moves = list(game.mainline_moves())\n",
    "            variations = list(game.mainline())\n",
    "            print(game.headers['FICSGamesDBGameNo'])\n",
    "            new_game = chess.pgn.Game()\n",
    "            new_pgn = open(\"new_game\", \"w\", encoding=\"utf-8\")\n",
    "\n",
    "            new_game.headers[\"Event\"] = \"Example\"\n",
    "            new_game.headers[\"White\"] = \"Name One\"\n",
    "            new_game.headers[\"Black\"] = \"Name Two\"\n",
    "            new_game.headers[\"Event_two\"] = \"Example two\"\n",
    "\n",
    "            node = new_game.add_variation(moves[0])\n",
    "\n",
    "            move_counter = 0\n",
    "            for move in moves:\n",
    "                move_counter += 1\n",
    "                print(move)\n",
    "                board.push(move)\n",
    "                stockfish.set_fen_position(board.fen())\n",
    "                eval = stockfish.get_evaluation()\n",
    "                \n",
    "#                 if move_counter == 1:\n",
    "#                     node = new_game.add_variation(moves[0])\n",
    "                node = node.add_variation(move)\n",
    "                node.comment = str(eval['value'])\n",
    "\n",
    "\n",
    "            if game_counter == game_num:\n",
    "                break\n",
    "            \n",
    "        except AssertionError:\n",
    "            break\n",
    "#     print(new_game)\n",
    "#     exporter = chess.pgn.FileExporter(new_pgn)\n",
    "#     new_game.accept(exporter)"
   ]
  },
  {
   "cell_type": "code",
   "execution_count": 68,
   "id": "b7969c3d",
   "metadata": {},
   "outputs": [
    {
     "name": "stdout",
     "output_type": "stream",
     "text": [
      "490373548\n",
      "b2b3\n",
      "e7e5\n",
      "b1c3\n",
      "b8c6\n",
      "e2e3\n",
      "g8f6\n",
      "f1e2\n",
      "d7d5\n",
      "c1b2\n",
      "f8d6\n",
      "g1h3\n",
      "a7a6\n",
      "e1g1\n",
      "h7h5\n",
      "e2f3\n",
      "e5e4\n",
      "f3e2\n",
      "c8h3\n",
      "g2h3\n",
      "d8d7\n",
      "g1g2\n",
      "e8c8\n",
      "d2d4\n",
      "h8h6\n",
      "h3h4\n",
      "h6g6\n",
      "e2g4\n",
      "f6g4\n",
      "g2h1\n",
      "g4h2\n",
      "c3e4\n",
      "d5e4\n",
      "f1g1\n",
      "d7h3\n",
      "g1g3\n",
      "g6g3\n",
      "d1g1\n",
      "h2f3\n",
      "g1h2\n",
      "h3h2\n"
     ]
    }
   ],
   "source": [
    "new_pc_game = read_pgn()"
   ]
  },
  {
   "cell_type": "code",
   "execution_count": 98,
   "id": "c327cd61",
   "metadata": {},
   "outputs": [
    {
     "name": "stdout",
     "output_type": "stream",
     "text": [
      " 1. b3 { 79 } 1... e5 { {'type': 'cp', 'value': -58 } 2. Nc3 { {'type': 'cp', 'value': 27 } 2... Nc6 { {'type': 'cp', 'value': -145 } 3. e3 { {'type': 'cp', 'value': 0 } 3... Nf6 { {'type': 'cp', 'value': -107 } 4. Be2 { {'type': 'cp', 'value': -20 } 4... d5 { {'type': 'cp', 'value': -130 } 5. Bb2 { {'type': 'cp', 'value': -54 } 5... Bd6 { {'type': 'cp', 'value': -193 } 6. Nh3 { {'type': 'cp', 'value': -9 } 6... a6 { {'type': 'cp', 'value': -227 } 7. O-O { {'type': 'cp', 'value': -208 } 7... h5 { {'type': 'cp', 'value': -303 } 8. Bf3 { {'type': 'cp', 'value': -157 } 8... e4 { {'type': 'cp', 'value': -1214 } 9. Be2 { {'type': 'cp', 'value': -349 } 9... Bxh3 { {'type': 'cp', 'value': -431 } 10. gxh3 { {'type': 'cp', 'value': -263 } 10... Qd7 { {'type': 'cp', 'value': -717 } 11. Kg2 { {'type': 'cp', 'value': -316 } 11... O-O-O { {'type': 'cp', 'value': -496 } 12. d4 { {'type': 'cp', 'value': -421 } 12... Rh6 { {'type': 'cp', 'value': -548 } 13. h4 { {'type': 'cp', 'value': -456 } 13... Rg6+ { {'type': 'cp', 'value': -625 } 14. Bg4 { {'type': 'cp', 'value': -358 } 14... Nxg4 { {'type': 'cp', 'value': -1493 } 15. Kh1 { {'type': 'cp', 'value': -1157 } 15... Nxh2 { {'type': 'cp', 'value': -1487 } 16. Nxe4 { {'type': 'cp', 'value': -1038 } 16... dxe4 { {'type': 'cp', 'value': -1584 } 17. Rg1 { {'type': 'cp', 'value': -884 } 17... Qh3 { {'type': 'cp', 'value': -1192 } 18. Rg3 { {'type': 'cp', 'value': -2075 } 18... Rxg3 { {'type': 'mate', 'value': -3 } 19. Qg1 { {'type': 'mate', 'value': -2 } 19... Nf3+ { {'type': 'mate', 'value': -2 } 20. Qh2 { {'type': 'mate', 'value': -1 } 20... Qxh2# { {'type': 'mate', 'value': -1 } \n"
     ]
    }
   ],
   "source": [
    "file_name = \"../raw_data/Fics_data_pc_data.pgn\"\n",
    "pgn = open(file_name, encoding='UTF-8')\n",
    "game = chess.pgn.read_game(pgn)\n",
    "board = game.board()\n",
    "moves = list(game.mainline_moves())\n",
    "\n",
    "\n",
    "# print(node)\n",
    "game_counter = 0\n",
    "for move in moves:\n",
    "    game_counter += 1\n",
    "    stockfish.set_fen_position(board.fen())\n",
    "    eval = stockfish.get_evaluation()\n",
    "    \n",
    "    if game_counter == 1:\n",
    "        node = game.add_variation(moves[0])\n",
    "        node.comment = str(eval['value'])\n",
    "    else:\n",
    "        node = node.add_variation(move)\n",
    "        node.comment = str(eval)\n",
    "    board.push(move)\n",
    "    evaluations = str(game).split('(')[1].split(')')[0]\n",
    "print(evaluations)"
   ]
  },
  {
   "cell_type": "code",
   "execution_count": 91,
   "id": "04cf9bb3",
   "metadata": {},
   "outputs": [
    {
     "data": {
      "text/plain": [
       "3062"
      ]
     },
     "execution_count": 91,
     "metadata": {},
     "output_type": "execute_result"
    }
   ],
   "source": [
    "new_game = open(\"new_game\", \"w\", encoding=\"utf-8\")\n",
    "exporter = chess.pgn.FileExporter(new_game)\n",
    "game.accept(exporter)"
   ]
  },
  {
   "cell_type": "code",
   "execution_count": 117,
   "id": "2b2ad80f",
   "metadata": {},
   "outputs": [
    {
     "name": "stdout",
     "output_type": "stream",
     "text": [
      " 2. Nc3  -58 \n",
      " 2... Nc6  27 \n",
      " 3. e3  -145 \n",
      " 3... Nf6  0 \n",
      " 4. Be2  -107 \n",
      " 4... d5  -20 \n",
      " 5. Bb2  -130 \n",
      " 5... Bd6  -54 \n",
      " 6. Nh3  -193 \n",
      " 6... a6  -9 \n",
      " 7. O-O  -227 \n",
      " 7... h5  -208 \n",
      " 8. Bf3  -303 \n",
      " 8... e4  -157 \n",
      " 9. Be2  -1214 \n",
      " 9... Bxh3  -349 \n",
      " 10. gxh3  -431 \n",
      " 10... Qd7  -263 \n",
      " 11. Kg2  -717 \n",
      " 11... O-O-O  -316 \n",
      " 12. d4  -496 \n",
      " 12... Rh6  -421 \n",
      " 13. h4  -548 \n",
      " 13... Rg6+  -456 \n",
      " 14. Bg4  -625 \n",
      " 14... Nxg4  -358 \n",
      " 15. Kh1  -1493 \n",
      " 15... Nxh2  -1157 \n",
      " 16. Nxe4  -1487 \n",
      " 16... dxe4  -1038 \n",
      " 17. Rg1  -1584 \n",
      " 17... Qh3  -884 \n",
      " 18. Rg3  -1192 \n",
      " 18... Rxg3  -2075 \n",
      " 19. Qg1  -3 \n",
      " 19... Nf3+  -2 \n",
      " 20. Qh2  -2 \n",
      " 20... Qxh2#  -1 \n",
      "  -1 \n"
     ]
    }
   ],
   "source": [
    "log_dict = {\n",
    "    'cp':[],\n",
    "    'move':[]\n",
    "}\n",
    "\n",
    "split_1 = evaluations.split(\"'value': \")\n",
    "split_2 = [i.split('{')[0] for i in split_1]\n",
    "# split_2\n",
    "for j in split_2[1:]:\n",
    "    if j.startswith('1. '):\n",
    "        move = j\n",
    "        cp = 0\n",
    "    else:\n",
    "        cp = j.split('}')[0]\n",
    "        move = j.split('}')[1]\n",
    "    print(move, cp)\n",
    "# log_dict"
   ]
  },
  {
   "cell_type": "code",
   "execution_count": null,
   "id": "cd0ffc04",
   "metadata": {},
   "outputs": [],
   "source": []
  },
  {
   "cell_type": "code",
   "execution_count": null,
   "id": "ac66af2b",
   "metadata": {},
   "outputs": [],
   "source": []
  }
 ],
 "metadata": {
  "kernelspec": {
   "display_name": "Python 3 (ipykernel)",
   "language": "python",
   "name": "python3"
  },
  "language_info": {
   "codemirror_mode": {
    "name": "ipython",
    "version": 3
   },
   "file_extension": ".py",
   "mimetype": "text/x-python",
   "name": "python",
   "nbconvert_exporter": "python",
   "pygments_lexer": "ipython3",
   "version": "3.8.6"
  },
  "toc": {
   "base_numbering": 1,
   "nav_menu": {},
   "number_sections": true,
   "sideBar": true,
   "skip_h1_title": false,
   "title_cell": "Table of Contents",
   "title_sidebar": "Contents",
   "toc_cell": false,
   "toc_position": {},
   "toc_section_display": true,
   "toc_window_display": false
  }
 },
 "nbformat": 4,
 "nbformat_minor": 5
}

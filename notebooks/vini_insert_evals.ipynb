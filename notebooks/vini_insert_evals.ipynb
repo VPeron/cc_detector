{
 "cells": [
  {
   "cell_type": "code",
   "execution_count": 1,
   "id": "6251047b",
   "metadata": {},
   "outputs": [],
   "source": [
    "from stockfish import Stockfish\n",
    "import chess.pgn\n",
    "\n",
    "import matplotlib.pyplot as plt\n",
    "import seaborn as sns\n",
    "import numpy as np\n",
    "import pandas as pd"
   ]
  },
  {
   "cell_type": "code",
   "execution_count": 2,
   "id": "ac3861b3",
   "metadata": {},
   "outputs": [],
   "source": [
    "# stockfish init\n",
    "stockfish = Stockfish(\n",
    "    '/home/vini/Personal/test_project/stockfish_14_linux_x64/stockfish_14_linux_x64/stockfish_14_x64', \n",
    "    parameters={\"Threads\": 2, 'Min Split Depth': 26, 'Ponder':True}\n",
    ")\n",
    "stockfish.set_elo_rating(2600)\n",
    "stockfish.set_skill_level(30)"
   ]
  },
  {
   "cell_type": "code",
   "execution_count": 3,
   "id": "c1fc5e33",
   "metadata": {},
   "outputs": [],
   "source": [
    "# read game\n",
    "def read_pgn(game_num=1):\n",
    "    file_name = \"../raw_data/Fics_data_pc_data.pgn\"\n",
    "#     with open(file_name) as pgn:\n",
    "    pgn = open(file_name, encoding='UTF-8')\n",
    "    \n",
    "    \n",
    "    game_counter = 0\n",
    "    \n",
    "    while True:\n",
    "        try:\n",
    "            game_counter += 1\n",
    "            game = chess.pgn.read_game(pgn)\n",
    "\n",
    "            board = game.board()\n",
    "            moves = list(game.mainline_moves())\n",
    "            variations = list(game.mainline())\n",
    "            print(game.headers['FICSGamesDBGameNo'])\n",
    "            new_game = chess.pgn.Game()\n",
    "            new_pgn = open(\"new_game\", \"w\", encoding=\"utf-8\")\n",
    "\n",
    "            new_game.headers[\"Event\"] = \"Example\"\n",
    "            new_game.headers[\"White\"] = \"Name One\"\n",
    "            new_game.headers[\"Black\"] = \"Name Two\"\n",
    "            new_game.headers[\"Event_two\"] = \"Example two\"\n",
    "\n",
    "            node = new_game.add_variation(moves[0])\n",
    "\n",
    "            move_counter = 0\n",
    "            for move in moves:\n",
    "                move_counter += 1\n",
    "                print(move)\n",
    "                board.push(move)\n",
    "                stockfish.set_fen_position(board.fen())\n",
    "                eval = stockfish.get_evaluation()\n",
    "                \n",
    "#                 if move_counter == 1:\n",
    "#                     node = new_game.add_variation(moves[0])\n",
    "                node = node.add_variation(move)\n",
    "                node.comment = str(eval['value'])\n",
    "\n",
    "\n",
    "            if game_counter == game_num:\n",
    "                break\n",
    "            \n",
    "        except AssertionError:\n",
    "            break\n",
    "#     print(new_game)\n",
    "#     exporter = chess.pgn.FileExporter(new_pgn)\n",
    "#     new_game.accept(exporter)"
   ]
  },
  {
   "cell_type": "code",
   "execution_count": 4,
   "id": "b7969c3d",
   "metadata": {},
   "outputs": [
    {
     "name": "stdout",
     "output_type": "stream",
     "text": [
      "490373548\n",
      "b2b3\n",
      "e7e5\n",
      "b1c3\n",
      "b8c6\n",
      "e2e3\n",
      "g8f6\n",
      "f1e2\n",
      "d7d5\n",
      "c1b2\n",
      "f8d6\n",
      "g1h3\n",
      "a7a6\n",
      "e1g1\n",
      "h7h5\n",
      "e2f3\n",
      "e5e4\n",
      "f3e2\n",
      "c8h3\n",
      "g2h3\n",
      "d8d7\n",
      "g1g2\n",
      "e8c8\n",
      "d2d4\n",
      "h8h6\n",
      "h3h4\n",
      "h6g6\n",
      "e2g4\n",
      "f6g4\n",
      "g2h1\n",
      "g4h2\n",
      "c3e4\n",
      "d5e4\n",
      "f1g1\n",
      "d7h3\n",
      "g1g3\n",
      "g6g3\n",
      "d1g1\n",
      "h2f3\n",
      "g1h2\n",
      "h3h2\n"
     ]
    }
   ],
   "source": [
    "new_pc_game = read_pgn()"
   ]
  },
  {
   "cell_type": "code",
   "execution_count": 20,
   "id": "c327cd61",
   "metadata": {},
   "outputs": [
    {
     "name": "stdout",
     "output_type": "stream",
     "text": [
      "[Event \"FICS rated blitz game\"]\n",
      "[Site \"FICS freechess.org\"]\n",
      "[Date \"2021.01.31\"]\n",
      "[Round \"?\"]\n",
      "[White \"forlat\"]\n",
      "[Black \"Geforce\"]\n",
      "[Result \"0-1\"]\n",
      "[BlackClock \"0:03:00.000\"]\n",
      "[BlackElo \"2204\"]\n",
      "[BlackRD \"0.0\"]\n",
      "[ECO \"A01\"]\n",
      "[FICSGamesDBGameNo \"490373548\"]\n",
      "[PlyCount \"40\"]\n",
      "[Time \"23:57:00\"]\n",
      "[TimeControl \"180+0\"]\n",
      "[WhiteClock \"0:03:00.000\"]\n",
      "[WhiteElo \"1970\"]\n",
      "[WhiteIsComp \"Yes\"]\n",
      "[WhiteRD \"0.0\"]\n",
      "\n",
      "1. b3 { [%emt 0.0] } ( 1. b3 { [%eval 79] [%clk 0:10:00] } 1... e5 { [%eval -58] [%clk 0:10:00] } 2. Nc3 { [%eval 27] [%clk 0:10:00] } 2... Nc6 { [%eval -145] [%clk 0:10:00] } 3. e3 { [%eval 0] [%clk 0:10:00] } 3... Nf6 { [%eval -107] [%clk 0:10:00] } 4. Be2 { [%eval -20] [%clk 0:10:00] } 4... d5 { [%eval -220] [%clk 0:10:00] } 5. Bb2 { [%eval -54] [%clk 0:10:00] } 5... Bd6 { [%eval -193] [%clk 0:10:00] } 6. Nh3 { [%eval -9] [%clk 0:10:00] } 6... a6 { [%eval -227] [%clk 0:10:00] } 7. O-O { [%eval -208] [%clk 0:10:00] } 7... h5 { [%eval -303] [%clk 0:10:00] } 8. Bf3 { [%eval -157] [%clk 0:10:00] } 8... e4 { [%eval -1214] [%clk 0:10:00] } 9. Be2 { [%eval -349] [%clk 0:10:00] } 9... Bxh3 { [%eval -431] [%clk 0:10:00] } 10. gxh3 { [%eval -263] [%clk 0:10:00] } 10... Qd7 { [%eval -717] [%clk 0:10:00] } 11. Kg2 { [%eval -316] [%clk 0:10:00] } 11... O-O-O { [%eval -496] [%clk 0:10:00] } 12. d4 { [%eval -421] [%clk 0:10:00] } 12... Rh6 { [%eval -548] [%clk 0:10:00] } 13. h4 { [%eval -456] [%clk 0:10:00] } 13... Rg6+ { [%eval -625] [%clk 0:10:00] } 14. Bg4 { [%eval -358] [%clk 0:10:00] } 14... Nxg4 { [%eval -1493] [%clk 0:10:00] } 15. Kh1 { [%eval -1157] [%clk 0:10:00] } 15... Nxh2 { [%eval -1487] [%clk 0:10:00] } 16. Nxe4 { [%eval -1038] [%clk 0:10:00] } 16... dxe4 { [%eval -1584] [%clk 0:10:00] } 17. Rg1 { [%eval -884] [%clk 0:10:00] } 17... Qh3 { [%eval -1192] [%clk 0:10:00] } 18. Rg3 { [%eval -2075] [%clk 0:10:00] } 18... Rxg3 { [%eval -3] [%clk 0:10:00] } 19. Qg1 { [%eval -2] [%clk 0:10:00] } 19... Nf3+ { [%eval -2] [%clk 0:10:00] } 20. Qh2 { [%eval -1] [%clk 0:10:00] } 20... Qxh2# { [%eval -1] [%clk 0:10:00] } ) 1... e5 { [%emt 0.0] } 2. Nc3 { [%emt 2.164] } 2... Nc6 { [%emt 0.404] } 3. e3 { [%emt 1.171] } 3... Nf6 { [%emt 0.888] } 4. Be2 { [%emt 1.18] } 4... d5 { [%emt 0.651] } 5. Bb2 { [%emt 1.324] } 5... Bd6 { [%emt 0.531] } 6. Nh3 { [%emt 0.947] } 6... a6 { [%emt 0.334] } 7. O-O { [%emt 0.958] } 7... h5 { [%emt 0.337] } 8. Bf3 { [%emt 1.653] } 8... e4 { [%emt 0.72] } 9. Be2 { [%emt 1.932] } 9... Bxh3 { [%emt 0.1] } 10. gxh3 { [%emt 1.907] } 10... Qd7 { [%emt 0.1] } 11. Kg2 { [%emt 1.151] } 11... O-O-O { [%emt 0.57] } 12. d4 { [%emt 1.326] } 12... Rh6 { [%emt 0.511] } 13. h4 { [%emt 1.284] } 13... Rg6+ { [%emt 0.271] } 14. Bg4 { [%emt 1.474] } 14... Nxg4 { [%emt 0.293] } 15. Kh1 { [%emt 1.16] } 15... Nxh2 { [%emt 0.819] } 16. Nxe4 { [%emt 2.864] } 16... dxe4 { [%emt 1.893] } 17. Rg1 { [%emt 1.685] } 17... Qh3 { [%emt 1.456] } 18. Rg3 { [%emt 1.501] } 18... Rxg3 { [%emt 2.067] } 19. Qg1 { [%emt 1.04] } 19... Nf3+ { [%emt 0.499] } 20. Qh2 { [%emt 0.214] } 20... Qxh2# { [%emt 0.879]\n",
      "White checkmated } 0-1\n",
      " 1. b3 { [%eval 79] [%clk 0:10:00] } 1... e5 { [%eval -58] [%clk 0:10:00] } 2. Nc3 { [%eval 27] [%clk 0:10:00] } 2... Nc6 { [%eval -145] [%clk 0:10:00] } 3. e3 { [%eval 0] [%clk 0:10:00] } 3... Nf6 { [%eval -107] [%clk 0:10:00] } 4. Be2 { [%eval -20] [%clk 0:10:00] } 4... d5 { [%eval -220] [%clk 0:10:00] } 5. Bb2 { [%eval -54] [%clk 0:10:00] } 5... Bd6 { [%eval -193] [%clk 0:10:00] } 6. Nh3 { [%eval -9] [%clk 0:10:00] } 6... a6 { [%eval -227] [%clk 0:10:00] } 7. O-O { [%eval -208] [%clk 0:10:00] } 7... h5 { [%eval -303] [%clk 0:10:00] } 8. Bf3 { [%eval -157] [%clk 0:10:00] } 8... e4 { [%eval -1214] [%clk 0:10:00] } 9. Be2 { [%eval -349] [%clk 0:10:00] } 9... Bxh3 { [%eval -431] [%clk 0:10:00] } 10. gxh3 { [%eval -263] [%clk 0:10:00] } 10... Qd7 { [%eval -717] [%clk 0:10:00] } 11. Kg2 { [%eval -316] [%clk 0:10:00] } 11... O-O-O { [%eval -496] [%clk 0:10:00] } 12. d4 { [%eval -421] [%clk 0:10:00] } 12... Rh6 { [%eval -548] [%clk 0:10:00] } 13. h4 { [%eval -456] [%clk 0:10:00] } 13... Rg6+ { [%eval -625] [%clk 0:10:00] } 14. Bg4 { [%eval -358] [%clk 0:10:00] } 14... Nxg4 { [%eval -1493] [%clk 0:10:00] } 15. Kh1 { [%eval -1157] [%clk 0:10:00] } 15... Nxh2 { [%eval -1487] [%clk 0:10:00] } 16. Nxe4 { [%eval -1038] [%clk 0:10:00] } 16... dxe4 { [%eval -1584] [%clk 0:10:00] } 17. Rg1 { [%eval -884] [%clk 0:10:00] } 17... Qh3 { [%eval -1192] [%clk 0:10:00] } 18. Rg3 { [%eval -2075] [%clk 0:10:00] } 18... Rxg3 { [%eval -3] [%clk 0:10:00] } 19. Qg1 { [%eval -2] [%clk 0:10:00] } 19... Nf3+ { [%eval -2] [%clk 0:10:00] } 20. Qh2 { [%eval -1] [%clk 0:10:00] } 20... Qxh2# { [%eval -1] [%clk 0:10:00] } \n"
     ]
    }
   ],
   "source": [
    "file_name = \"../raw_data/Fics_data_pc_data.pgn\"\n",
    "pgn = open(file_name, encoding='UTF-8')\n",
    "game = chess.pgn.read_game(pgn)\n",
    "board = game.board()\n",
    "moves = list(game.mainline_moves())\n",
    "\n",
    "node = game.add_variation(moves[0])\n",
    "# print(node)\n",
    "game_counter = 0\n",
    "for move in moves:\n",
    "    game_counter += 1\n",
    "    stockfish.set_fen_position(board.fen())\n",
    "    eval_ = stockfish.get_evaluation()\n",
    "    \n",
    "    if game_counter == 1:\n",
    "        node.comment = '[%eval '+str(eval_['value'])+'] [%clk 0:10:00]'\n",
    "    else:\n",
    "        node = node.add_variation(move)\n",
    "        node.comment = '[%eval '+str(eval_['value'])+'] [%clk 0:10:00]'\n",
    "    board.push(move)\n",
    "    evaluations = str(game).split('(')[1].split(')')[0]\n",
    "print(game)\n",
    "print(evaluations)"
   ]
  },
  {
   "cell_type": "code",
   "execution_count": 6,
   "id": "04cf9bb3",
   "metadata": {},
   "outputs": [
    {
     "data": {
      "text/plain": [
       "2116"
      ]
     },
     "execution_count": 6,
     "metadata": {},
     "output_type": "execute_result"
    }
   ],
   "source": [
    "new_game = open(\"new_game\", \"w\", encoding=\"utf-8\")\n",
    "exporter = chess.pgn.FileExporter(new_game)\n",
    "game.accept(exporter)"
   ]
  },
  {
   "cell_type": "code",
   "execution_count": 7,
   "id": "2b2ad80f",
   "metadata": {},
   "outputs": [],
   "source": [
    "log_dict = {\n",
    "    'cp':[],\n",
    "    'move':[]\n",
    "}\n",
    "\n",
    "split_1 = evaluations.split(\"'value': \")\n",
    "split_2 = [i.split('{')[0] for i in split_1]\n",
    "# split_2\n",
    "for j in split_2[1:]:\n",
    "    if j.startswith('1. '):\n",
    "        move = j\n",
    "        cp = 0\n",
    "    else:\n",
    "        cp = j.split('}')[0]\n",
    "        move = j.split('}')[1]\n",
    "    print(move, cp)\n",
    "# log_dict"
   ]
  },
  {
   "cell_type": "code",
   "execution_count": null,
   "id": "cd0ffc04",
   "metadata": {},
   "outputs": [],
   "source": []
  },
  {
   "cell_type": "code",
   "execution_count": null,
   "id": "ac66af2b",
   "metadata": {},
   "outputs": [],
   "source": []
  }
 ],
 "metadata": {
  "kernelspec": {
   "display_name": "Python 3 (ipykernel)",
   "language": "python",
   "name": "python3"
  },
  "language_info": {
   "codemirror_mode": {
    "name": "ipython",
    "version": 3
   },
   "file_extension": ".py",
   "mimetype": "text/x-python",
   "name": "python",
   "nbconvert_exporter": "python",
   "pygments_lexer": "ipython3",
   "version": "3.8.6"
  },
  "toc": {
   "base_numbering": 1,
   "nav_menu": {},
   "number_sections": true,
   "sideBar": true,
   "skip_h1_title": false,
   "title_cell": "Table of Contents",
   "title_sidebar": "Contents",
   "toc_cell": false,
   "toc_position": {},
   "toc_section_display": true,
   "toc_window_display": false
  }
 },
 "nbformat": 4,
 "nbformat_minor": 5
}

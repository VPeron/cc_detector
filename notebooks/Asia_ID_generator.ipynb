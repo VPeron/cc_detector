{
 "cells": [
  {
   "cell_type": "code",
   "execution_count": 1,
   "id": "03166446",
   "metadata": {},
   "outputs": [],
   "source": [
    "# df_players\n",
    "# name, elo, state (H/m), move time avg (not possible yet), acpl game avg\n",
    "# df_games\n",
    "# p1_ID, p2_ID, winner_ID, date, opening, p1_ELO, p2_ELO\n",
    "# df_moves\n",
    "# player_ID, game_ID, time, eval, fen/move, comment"
   ]
  },
  {
   "cell_type": "code",
   "execution_count": 2,
   "id": "963aee69",
   "metadata": {},
   "outputs": [],
   "source": [
    "import pandas as pd\n",
    "import numpy as np\n",
    "\n",
    "import chess\n",
    "import chess.pgn\n",
    "from stockfish import Stockfish\n",
    "import os\n",
    "\n",
    "import uuid        # for id generation\n",
    "import shortuuid\n",
    "\n",
    "%load_ext autoreload\n",
    "%autoreload 2"
   ]
  },
  {
   "cell_type": "code",
   "execution_count": 3,
   "id": "c2b257c8",
   "metadata": {},
   "outputs": [],
   "source": [
    "#stockfish = Stockfish(\n",
    "#    'stockfish_14_linux_x64/stockfish_14_linux_x64/stockfish_14_x64', \n",
    "#    parameters={\"Threads\": 2, 'Min Split Depth': 26, 'Ponder':True}\n",
    "#)\n",
    "#stockfish.set_elo_rating(2600)\n",
    "#stockfish.set_skill_level(30)"
   ]
  },
  {
   "cell_type": "code",
   "execution_count": 4,
   "id": "a90357e3",
   "metadata": {
    "scrolled": true
   },
   "outputs": [
    {
     "name": "stdout",
     "output_type": "stream",
     "text": [
      "50 games read.\n",
      "CPU times: user 765 ms, sys: 16.2 ms, total: 782 ms\n",
      "Wall time: 781 ms\n"
     ]
    }
   ],
   "source": [
    "%%time\n",
    "\n",
    "players = {\n",
    "    'White':[],\n",
    "    'White_Elo': [],\n",
    "    'Black': [],\n",
    "    'Black_Elo': [],\n",
    "    'WhiteIsComp':[],\n",
    "}\n",
    "\n",
    "games = {\n",
    "    'Game_ID': [],\n",
    "    'Date' : [],\n",
    "    'White':[],  # Dummy ID\n",
    "    'White_Elo': [],\n",
    "    'Black': [],  # Dummy ID\n",
    "    'Black_Elo': [],\n",
    "    'ECO': [],\n",
    "    'Result': [],\n",
    "}\n",
    "\n",
    "moves_log_dict = {\n",
    "    'Game_ID': [],\n",
    "    'FEN_moves': [],\n",
    "    'Bitmap_moves': [],\n",
    "    #'cpl': [],\n",
    "    'WhiteIsComp': [],\n",
    "    'turn': [],\n",
    "    'Castling_right': [],\n",
    "    'EP_option': [],\n",
    "    'Pseudo_EP_option': [],\n",
    "    'Halfmove_clock': []\n",
    "    #'Result': [],\n",
    "}\n",
    "\n",
    "# Set list of Pieces\n",
    "PIECES = [chess.Piece.from_symbol('P'),\n",
    "         chess.Piece.from_symbol('N'),\n",
    "         chess.Piece.from_symbol('B'),\n",
    "         chess.Piece.from_symbol('R'),\n",
    "         chess.Piece.from_symbol('Q'),\n",
    "         chess.Piece.from_symbol('K'),\n",
    "         chess.Piece.from_symbol('p'),\n",
    "         chess.Piece.from_symbol('n'),\n",
    "         chess.Piece.from_symbol('b'),\n",
    "         chess.Piece.from_symbol('r'),\n",
    "         chess.Piece.from_symbol('q'),\n",
    "         chess.Piece.from_symbol('k')]\n",
    "\n",
    "# read file\n",
    "pgn = open(\"data/Fics_data_pc_data.pgn\", encoding='UTF-8')  # always a Comp vs Player\n",
    "game_counter = 0\n",
    "\n",
    "while True:  # keep reading games\n",
    "    try:\n",
    "        game = chess.pgn.read_game(pgn)\n",
    "        board = game.board()\n",
    "        moves = list(game.mainline_moves())\n",
    "        \n",
    "        # Player\n",
    "        players['White_Elo'].append(game.headers['WhiteElo'])\n",
    "        players['Black_Elo'].append(game.headers['BlackElo'])\n",
    "        players['White'].append(game.headers['White'])\n",
    "        players['Black'].append(game.headers['Black'])\n",
    "        players['WhiteIsComp'].append(game.headers.get('WhiteIsComp', 'No'))\n",
    "        \n",
    "        # Games\n",
    "        games['Game_ID'].append(game.headers['FICSGamesDBGameNo'])\n",
    "        games['White'].append(game.headers['White'])  # dummy ID\n",
    "        games['Black'].append(game.headers['Black'])  # dummy ID\n",
    "        games['White_Elo'].append(game.headers['WhiteElo'])\n",
    "        games['Black_Elo'].append(game.headers['BlackElo'])\n",
    "        games['ECO'].append(game.headers['ECO'])\n",
    "        games['Result'].append(game.headers['Result'])\n",
    "        games['Date'].append(game.headers['Date'])\n",
    "        \n",
    "        # MOVE CYCLE\n",
    "        white = True\n",
    "        for move in moves:\n",
    "            board.push(move)\n",
    "            #fen_pos.append(board.fen())\n",
    "            #stockfish.set_fen_position(board.fen())  # load stockfish with current FEN for eval\n",
    "            #cpl = stockfish.get_evaluation()['value']/100\n",
    "            \n",
    "            moves_log_dict['Game_ID'].append(game.headers['FICSGamesDBGameNo'])\n",
    "            moves_log_dict['FEN_moves'].append(board.fen())\n",
    "            \n",
    "            #Generate bitmap representation of FENs\n",
    "            bitmap_board_dict = {}\n",
    "            positions = board.piece_map()\n",
    "\n",
    "            for piece in PIECES:\n",
    "                bitmap_board = {}\n",
    "                for position in positions:\n",
    "                    if positions[position] == piece: \n",
    "                        bitmap_board[position] = 1\n",
    "                    else:\n",
    "                        bitmap_board[position] = 0\n",
    "                bitmap_board_dict[str(piece)] = bitmap_board            \n",
    "            \n",
    "            moves_log_dict['Bitmap_moves'].append(bitmap_board_dict)\n",
    "            \n",
    "            #moves_log_dict['cpl'].append(cpl)\n",
    "            \n",
    "            #Turn color and castling availablity\n",
    "            moves_log_dict['WhiteIsComp'].append(game.headers.get('WhiteIsComp', 'No'))\n",
    "            if white:\n",
    "                moves_log_dict['turn'].append('white')\n",
    "                moves_log_dict['Castling_right'].append(int(board.has_castling_rights(chess.WHITE)))\n",
    "                white = False\n",
    "            else:\n",
    "                moves_log_dict['turn'].append('black')\n",
    "                moves_log_dict['Castling_right'].append(int(board.has_castling_rights(chess.BLACK)))\n",
    "                white = True\n",
    "                \n",
    "            #(Pseudo) en passant opportunity\n",
    "            moves_log_dict['EP_option'].append(int(board.has_legal_en_passant()))\n",
    "            moves_log_dict['Pseudo_EP_option'].append(int(board.has_pseudo_legal_en_passant()))\n",
    "            \n",
    "            #Halfmove clock\n",
    "            moves_log_dict['Halfmove_clock'].append(board.halfmove_clock)\n",
    "                \n",
    "        game_counter += 1\n",
    "        if game_counter == 50:  # number of games to read\n",
    "            break\n",
    "    except AttributeError:  # no further games to read\n",
    "        print('No further games to load.')\n",
    "        break\n",
    "\n",
    "print(f'{game_counter} games read.')\n",
    "#TODO takes ~1 sec to process 5 games, too slow."
   ]
  },
  {
   "cell_type": "markdown",
   "id": "394cb81e",
   "metadata": {},
   "source": [
    "## Players"
   ]
  },
  {
   "cell_type": "code",
   "execution_count": null,
   "id": "3bab2913",
   "metadata": {},
   "outputs": [],
   "source": []
  },
  {
   "cell_type": "code",
   "execution_count": 5,
   "id": "f2eba609",
   "metadata": {
    "scrolled": true
   },
   "outputs": [
    {
     "data": {
      "text/html": [
       "<div>\n",
       "<style scoped>\n",
       "    .dataframe tbody tr th:only-of-type {\n",
       "        vertical-align: middle;\n",
       "    }\n",
       "\n",
       "    .dataframe tbody tr th {\n",
       "        vertical-align: top;\n",
       "    }\n",
       "\n",
       "    .dataframe thead th {\n",
       "        text-align: right;\n",
       "    }\n",
       "</style>\n",
       "<table border=\"1\" class=\"dataframe\">\n",
       "  <thead>\n",
       "    <tr style=\"text-align: right;\">\n",
       "      <th></th>\n",
       "      <th>White</th>\n",
       "      <th>White_Elo</th>\n",
       "      <th>Black</th>\n",
       "      <th>Black_Elo</th>\n",
       "      <th>WhiteIsComp</th>\n",
       "    </tr>\n",
       "  </thead>\n",
       "  <tbody>\n",
       "    <tr>\n",
       "      <th>0</th>\n",
       "      <td>forlat</td>\n",
       "      <td>1970</td>\n",
       "      <td>Geforce</td>\n",
       "      <td>2204</td>\n",
       "      <td>Yes</td>\n",
       "    </tr>\n",
       "    <tr>\n",
       "      <th>1</th>\n",
       "      <td>Geforce</td>\n",
       "      <td>2201</td>\n",
       "      <td>forlat</td>\n",
       "      <td>1973</td>\n",
       "      <td>No</td>\n",
       "    </tr>\n",
       "    <tr>\n",
       "      <th>2</th>\n",
       "      <td>forlat</td>\n",
       "      <td>1976</td>\n",
       "      <td>Geforce</td>\n",
       "      <td>2198</td>\n",
       "      <td>Yes</td>\n",
       "    </tr>\n",
       "    <tr>\n",
       "      <th>3</th>\n",
       "      <td>Geforce</td>\n",
       "      <td>2211</td>\n",
       "      <td>forlat</td>\n",
       "      <td>1963</td>\n",
       "      <td>No</td>\n",
       "    </tr>\n",
       "    <tr>\n",
       "      <th>4</th>\n",
       "      <td>forlat</td>\n",
       "      <td>1958</td>\n",
       "      <td>Geforce</td>\n",
       "      <td>2216</td>\n",
       "      <td>Yes</td>\n",
       "    </tr>\n",
       "  </tbody>\n",
       "</table>\n",
       "</div>"
      ],
      "text/plain": [
       "     White White_Elo    Black Black_Elo WhiteIsComp\n",
       "0   forlat      1970  Geforce      2204         Yes\n",
       "1  Geforce      2201   forlat      1973          No\n",
       "2   forlat      1976  Geforce      2198         Yes\n",
       "3  Geforce      2211   forlat      1963          No\n",
       "4   forlat      1958  Geforce      2216         Yes"
      ]
     },
     "execution_count": 5,
     "metadata": {},
     "output_type": "execute_result"
    }
   ],
   "source": [
    "df_players = pd.DataFrame(players)\n",
    "#TODO player ID\n",
    "df_players.head()"
   ]
  },
  {
   "cell_type": "code",
   "execution_count": 6,
   "id": "656ce644",
   "metadata": {},
   "outputs": [],
   "source": [
    "black = list(df_players[\"Black\"]) \n",
    "white = list(df_players[\"White\"])\n",
    "    \n",
    "#merge uniqe values from both columns:\n",
    "bw_merged = pd.DataFrame(list(set(black + white)), columns=[\"Players\"])"
   ]
  },
  {
   "cell_type": "code",
   "execution_count": 7,
   "id": "379d0b00",
   "metadata": {},
   "outputs": [],
   "source": [
    "def finding_comp():\n",
    "    comp1 = df_players.loc[df_players['WhiteIsComp'] == \"Yes\"]\n",
    "    comp1 = comp1[['White']].copy()\n",
    "    comp1.drop_duplicates(inplace=True)\n",
    "    comp2 = df_players.loc[df_players['WhiteIsComp'] == \"No\"]\n",
    "    comp2 = comp2[['Black']].copy()\n",
    "    comp2.drop_duplicates(inplace=True)\n",
    "    \n",
    "    c1 = list(comp1['White'])\n",
    "    c2 = list(comp2['Black'])\n",
    "    computer = list(set(c1 + c2))\n",
    "    \n",
    "    computer = pd.DataFrame({'Computer' : computer})\n",
    "    computer['Yes'] = 'Yes'\n",
    "    \n",
    "    \n",
    "    return computer"
   ]
  },
  {
   "cell_type": "code",
   "execution_count": 8,
   "id": "e92361a0",
   "metadata": {},
   "outputs": [
    {
     "data": {
      "text/html": [
       "<div>\n",
       "<style scoped>\n",
       "    .dataframe tbody tr th:only-of-type {\n",
       "        vertical-align: middle;\n",
       "    }\n",
       "\n",
       "    .dataframe tbody tr th {\n",
       "        vertical-align: top;\n",
       "    }\n",
       "\n",
       "    .dataframe thead th {\n",
       "        text-align: right;\n",
       "    }\n",
       "</style>\n",
       "<table border=\"1\" class=\"dataframe\">\n",
       "  <thead>\n",
       "    <tr style=\"text-align: right;\">\n",
       "      <th></th>\n",
       "      <th>Computer</th>\n",
       "      <th>Yes</th>\n",
       "    </tr>\n",
       "  </thead>\n",
       "  <tbody>\n",
       "    <tr>\n",
       "      <th>0</th>\n",
       "      <td>IFDThor</td>\n",
       "      <td>Yes</td>\n",
       "    </tr>\n",
       "    <tr>\n",
       "      <th>1</th>\n",
       "      <td>GriffySr</td>\n",
       "      <td>Yes</td>\n",
       "    </tr>\n",
       "    <tr>\n",
       "      <th>2</th>\n",
       "      <td>scalaQueen</td>\n",
       "      <td>Yes</td>\n",
       "    </tr>\n",
       "    <tr>\n",
       "      <th>3</th>\n",
       "      <td>exeComp</td>\n",
       "      <td>Yes</td>\n",
       "    </tr>\n",
       "    <tr>\n",
       "      <th>4</th>\n",
       "      <td>nakshatra</td>\n",
       "      <td>Yes</td>\n",
       "    </tr>\n",
       "    <tr>\n",
       "      <th>5</th>\n",
       "      <td>forlat</td>\n",
       "      <td>Yes</td>\n",
       "    </tr>\n",
       "    <tr>\n",
       "      <th>6</th>\n",
       "      <td>chesspickle</td>\n",
       "      <td>Yes</td>\n",
       "    </tr>\n",
       "    <tr>\n",
       "      <th>7</th>\n",
       "      <td>foggydew</td>\n",
       "      <td>Yes</td>\n",
       "    </tr>\n",
       "    <tr>\n",
       "      <th>8</th>\n",
       "      <td>Notarious</td>\n",
       "      <td>Yes</td>\n",
       "    </tr>\n",
       "  </tbody>\n",
       "</table>\n",
       "</div>"
      ],
      "text/plain": [
       "      Computer  Yes\n",
       "0      IFDThor  Yes\n",
       "1     GriffySr  Yes\n",
       "2   scalaQueen  Yes\n",
       "3      exeComp  Yes\n",
       "4    nakshatra  Yes\n",
       "5       forlat  Yes\n",
       "6  chesspickle  Yes\n",
       "7     foggydew  Yes\n",
       "8    Notarious  Yes"
      ]
     },
     "execution_count": 8,
     "metadata": {},
     "output_type": "execute_result"
    }
   ],
   "source": [
    "finding_comp()"
   ]
  },
  {
   "cell_type": "code",
   "execution_count": 9,
   "id": "3d1198de",
   "metadata": {},
   "outputs": [],
   "source": [
    "#generates unique IDs from int\n",
    "def id_generator(id):\n",
    "    return uuid.uuid4().int"
   ]
  },
  {
   "cell_type": "code",
   "execution_count": 10,
   "id": "de9eef78",
   "metadata": {},
   "outputs": [],
   "source": [
    "#generates unique IDs containing digits and characters\n",
    "def short_id_gen(id):\n",
    "    return shortuuid.ShortUUID().random(length=15)"
   ]
  },
  {
   "cell_type": "code",
   "execution_count": 11,
   "id": "004353ae",
   "metadata": {},
   "outputs": [],
   "source": [
    "def game_id(input_df):\n",
    "    '''generates IDs for df_games'''\n",
    "    input_df['Game_ID'] = input_df['Game_ID'].apply(short_id_gen)\n",
    "    df_games = input_df\n",
    "    return df_games"
   ]
  },
  {
   "cell_type": "code",
   "execution_count": 12,
   "id": "746d2ba9",
   "metadata": {},
   "outputs": [],
   "source": [
    "players_id = pd.DataFrame({'Players': [], 'Player_ID' : []})\n",
    "\n",
    "def players_id_list(input_df, players_id):\n",
    "    #extract black and white columns\n",
    "    black = list(input_df[\"Black\"]) \n",
    "    white = list(input_df[\"White\"])\n",
    "    \n",
    "    #merge uniqe values from both columns:\n",
    "    bw_merged = pd.DataFrame(list(set(black + white)), columns=[\"Players\"])\n",
    "    \n",
    "    # Player_ID filled with NaNs:\n",
    "    players_id = players_id.merge(bw_merged, how=\"outer\", left_on=[\"Players\"], right_on=[\"Players\"])\n",
    "    \n",
    "    # NaNs replaced with generated IDs\n",
    "    nans_to_ids = players_id[\"Player_ID\"].fillna(players_id[\"Player_ID\"].apply(id_generator))\n",
    "    \n",
    "    #inserting missing IDs to players_id\n",
    "    players_id[\"Player_ID\"] = nans_to_ids\n",
    "    \n",
    "    computer = finding_comp()\n",
    "    players_id = players_id.merge(computer, left_on='Players', right_on='Computer', how='outer')\n",
    "    players_id = players_id.replace(np.nan, 'No')\n",
    "    players_id.drop(columns='Computer', inplace=True)\n",
    "    players_id.rename(columns={'Yes' : 'Computer'}, inplace=True)\n",
    "    \n",
    "    return players_id"
   ]
  },
  {
   "cell_type": "code",
   "execution_count": 13,
   "id": "f63fee9e",
   "metadata": {
    "scrolled": true
   },
   "outputs": [
    {
     "data": {
      "text/html": [
       "<div>\n",
       "<style scoped>\n",
       "    .dataframe tbody tr th:only-of-type {\n",
       "        vertical-align: middle;\n",
       "    }\n",
       "\n",
       "    .dataframe tbody tr th {\n",
       "        vertical-align: top;\n",
       "    }\n",
       "\n",
       "    .dataframe thead th {\n",
       "        text-align: right;\n",
       "    }\n",
       "</style>\n",
       "<table border=\"1\" class=\"dataframe\">\n",
       "  <thead>\n",
       "    <tr style=\"text-align: right;\">\n",
       "      <th></th>\n",
       "      <th>Player_ID</th>\n",
       "      <th>Players</th>\n",
       "      <th>Computer</th>\n",
       "    </tr>\n",
       "  </thead>\n",
       "  <tbody>\n",
       "    <tr>\n",
       "      <th>0</th>\n",
       "      <td>268715629036954651341278341546054606890</td>\n",
       "      <td>scalaQueen</td>\n",
       "      <td>Yes</td>\n",
       "    </tr>\n",
       "    <tr>\n",
       "      <th>1</th>\n",
       "      <td>105796795097757617856135526385647061912</td>\n",
       "      <td>Bjboy</td>\n",
       "      <td>No</td>\n",
       "    </tr>\n",
       "    <tr>\n",
       "      <th>2</th>\n",
       "      <td>127800785002003763210618009810584245480</td>\n",
       "      <td>Genobear</td>\n",
       "      <td>No</td>\n",
       "    </tr>\n",
       "    <tr>\n",
       "      <th>3</th>\n",
       "      <td>16887539725025642039443972624875385182</td>\n",
       "      <td>Qiyas</td>\n",
       "      <td>No</td>\n",
       "    </tr>\n",
       "    <tr>\n",
       "      <th>4</th>\n",
       "      <td>39627001233364806087170382057345563780</td>\n",
       "      <td>chesspickle</td>\n",
       "      <td>Yes</td>\n",
       "    </tr>\n",
       "    <tr>\n",
       "      <th>5</th>\n",
       "      <td>281155479787018396207989531982118408673</td>\n",
       "      <td>Notarious</td>\n",
       "      <td>Yes</td>\n",
       "    </tr>\n",
       "    <tr>\n",
       "      <th>6</th>\n",
       "      <td>214361965354043111037278401272026426328</td>\n",
       "      <td>JMM</td>\n",
       "      <td>No</td>\n",
       "    </tr>\n",
       "    <tr>\n",
       "      <th>7</th>\n",
       "      <td>123445714837429497660988265504044307227</td>\n",
       "      <td>GriffySr</td>\n",
       "      <td>Yes</td>\n",
       "    </tr>\n",
       "    <tr>\n",
       "      <th>8</th>\n",
       "      <td>231775251354672903131376427162422509122</td>\n",
       "      <td>exeComp</td>\n",
       "      <td>Yes</td>\n",
       "    </tr>\n",
       "    <tr>\n",
       "      <th>9</th>\n",
       "      <td>323225179299118795954881779880867980024</td>\n",
       "      <td>chenqisheng</td>\n",
       "      <td>No</td>\n",
       "    </tr>\n",
       "    <tr>\n",
       "      <th>10</th>\n",
       "      <td>142136709821625673978336930395030591349</td>\n",
       "      <td>nakshatra</td>\n",
       "      <td>Yes</td>\n",
       "    </tr>\n",
       "    <tr>\n",
       "      <th>11</th>\n",
       "      <td>72820086283544022524809172328337658271</td>\n",
       "      <td>foggydew</td>\n",
       "      <td>Yes</td>\n",
       "    </tr>\n",
       "    <tr>\n",
       "      <th>12</th>\n",
       "      <td>337076378559931342198187053912959982076</td>\n",
       "      <td>sussexman</td>\n",
       "      <td>No</td>\n",
       "    </tr>\n",
       "    <tr>\n",
       "      <th>13</th>\n",
       "      <td>21745793022825618206324442441372394934</td>\n",
       "      <td>IFDThor</td>\n",
       "      <td>Yes</td>\n",
       "    </tr>\n",
       "    <tr>\n",
       "      <th>14</th>\n",
       "      <td>147223446929367372137005674533637953508</td>\n",
       "      <td>sparse</td>\n",
       "      <td>No</td>\n",
       "    </tr>\n",
       "    <tr>\n",
       "      <th>15</th>\n",
       "      <td>175872557353806653340032660154117427700</td>\n",
       "      <td>RamMiguel</td>\n",
       "      <td>No</td>\n",
       "    </tr>\n",
       "    <tr>\n",
       "      <th>16</th>\n",
       "      <td>11959597816234011715866417656928942165</td>\n",
       "      <td>Geforce</td>\n",
       "      <td>No</td>\n",
       "    </tr>\n",
       "    <tr>\n",
       "      <th>17</th>\n",
       "      <td>108644141046472008106089269096900698254</td>\n",
       "      <td>Arsyah</td>\n",
       "      <td>No</td>\n",
       "    </tr>\n",
       "    <tr>\n",
       "      <th>18</th>\n",
       "      <td>325564113578005737731656056296583373530</td>\n",
       "      <td>Ghannoum</td>\n",
       "      <td>No</td>\n",
       "    </tr>\n",
       "    <tr>\n",
       "      <th>19</th>\n",
       "      <td>63339349946345064476946870824512416527</td>\n",
       "      <td>Ruvarashe</td>\n",
       "      <td>No</td>\n",
       "    </tr>\n",
       "    <tr>\n",
       "      <th>20</th>\n",
       "      <td>129574020635470710015055236848417351429</td>\n",
       "      <td>chessloon</td>\n",
       "      <td>No</td>\n",
       "    </tr>\n",
       "    <tr>\n",
       "      <th>21</th>\n",
       "      <td>162304965979471161407534813688291139126</td>\n",
       "      <td>forlat</td>\n",
       "      <td>Yes</td>\n",
       "    </tr>\n",
       "  </tbody>\n",
       "</table>\n",
       "</div>"
      ],
      "text/plain": [
       "                                  Player_ID      Players Computer\n",
       "0   268715629036954651341278341546054606890   scalaQueen      Yes\n",
       "1   105796795097757617856135526385647061912        Bjboy       No\n",
       "2   127800785002003763210618009810584245480     Genobear       No\n",
       "3    16887539725025642039443972624875385182        Qiyas       No\n",
       "4    39627001233364806087170382057345563780  chesspickle      Yes\n",
       "5   281155479787018396207989531982118408673    Notarious      Yes\n",
       "6   214361965354043111037278401272026426328          JMM       No\n",
       "7   123445714837429497660988265504044307227     GriffySr      Yes\n",
       "8   231775251354672903131376427162422509122      exeComp      Yes\n",
       "9   323225179299118795954881779880867980024  chenqisheng       No\n",
       "10  142136709821625673978336930395030591349    nakshatra      Yes\n",
       "11   72820086283544022524809172328337658271     foggydew      Yes\n",
       "12  337076378559931342198187053912959982076    sussexman       No\n",
       "13   21745793022825618206324442441372394934      IFDThor      Yes\n",
       "14  147223446929367372137005674533637953508       sparse       No\n",
       "15  175872557353806653340032660154117427700    RamMiguel       No\n",
       "16   11959597816234011715866417656928942165      Geforce       No\n",
       "17  108644141046472008106089269096900698254       Arsyah       No\n",
       "18  325564113578005737731656056296583373530     Ghannoum       No\n",
       "19   63339349946345064476946870824512416527    Ruvarashe       No\n",
       "20  129574020635470710015055236848417351429    chessloon       No\n",
       "21  162304965979471161407534813688291139126       forlat      Yes"
      ]
     },
     "execution_count": 13,
     "metadata": {},
     "output_type": "execute_result"
    }
   ],
   "source": [
    "players_id = players_id_list(df_players, players_id)\n",
    "players_id"
   ]
  },
  {
   "cell_type": "code",
   "execution_count": 14,
   "id": "1793f15d",
   "metadata": {},
   "outputs": [],
   "source": [
    "# players_id = players_id.merge(computer, left_on='Players', right_on='Computer', how='outer')\n",
    "# players_id"
   ]
  },
  {
   "cell_type": "code",
   "execution_count": 15,
   "id": "53cd4d2c",
   "metadata": {
    "scrolled": true
   },
   "outputs": [],
   "source": [
    "# players_id.drop(columns='Computer', inplace=True)"
   ]
  },
  {
   "cell_type": "code",
   "execution_count": 16,
   "id": "ca3b2215",
   "metadata": {},
   "outputs": [],
   "source": [
    "# players_id.rename(columns={'Yes': 'Computer'})\n",
    "# players_id.replace(np.nan, 'No')"
   ]
  },
  {
   "cell_type": "code",
   "execution_count": 17,
   "id": "87d2f957",
   "metadata": {},
   "outputs": [],
   "source": [
    "df_dummy = pd.DataFrame({'White' : [\"12345\", 'DummyName', \"1234\", \"forlat\", \"Geforce\"], \"Black\" : ['DummyName', \"12345\", \"Dummy\", \"Geforce\", \"Bambi\"]})"
   ]
  },
  {
   "cell_type": "code",
   "execution_count": 18,
   "id": "35ee71ea",
   "metadata": {},
   "outputs": [
    {
     "data": {
      "text/plain": [
       "Player_ID    True\n",
       "Players      True\n",
       "Computer     True\n",
       "dtype: bool"
      ]
     },
     "execution_count": 18,
     "metadata": {},
     "output_type": "execute_result"
    }
   ],
   "source": [
    "players_id.dtypes == object"
   ]
  },
  {
   "cell_type": "code",
   "execution_count": null,
   "id": "143158e8",
   "metadata": {
    "scrolled": false
   },
   "outputs": [],
   "source": [
    "players_id.shape[0] == len(players_id[\"Player_ID\"].unique())"
   ]
  },
  {
   "cell_type": "code",
   "execution_count": null,
   "id": "1a7b75dd",
   "metadata": {},
   "outputs": [],
   "source": [
    "def assign_player_id(input_df): # returns a df with 2 new columns and assigned player ID\n",
    "    #print(\"List od IDs has been generated:\")\n",
    "    #print(players_unique)\n",
    "    m_white = input_df.merge(players_id, left_on=[\"White\"], right_on=['Players'])   #\n",
    "    m_white['White_ID'] = m_white['Player_ID']\n",
    "    m_white.drop(columns=['Players', \"Player_ID\"], inplace=True)\n",
    "    m_bw = m_white.merge(players_id, left_on=[\"Black\"], right_on=['Players']).astype(object)\n",
    "    m_bw['Black_ID'] = m_bw['Player_ID']\n",
    "    m_bw.drop(columns=['Players', \"Player_ID\"], inplace=True)\n",
    "    df_players = m_bw\n",
    "    return df_players"
   ]
  },
  {
   "cell_type": "code",
   "execution_count": null,
   "id": "9185aefb",
   "metadata": {
    "scrolled": true
   },
   "outputs": [],
   "source": [
    "assign_player_id(df_players)"
   ]
  },
  {
   "cell_type": "code",
   "execution_count": null,
   "id": "be1da527",
   "metadata": {},
   "outputs": [],
   "source": [
    "# def assign_player(input_df): # returns a df with 2 new columns and assigned player ID\n",
    "#     #print(\"List od IDs has been generated:\")\n",
    "#     #print(players_unique)\n",
    "#     m_white = pd.concat(input_df, players_id, join = 'outer')   #\n",
    "#     m_white['White_ID'] = m_white['Player_ID']\n",
    "#     m_white.drop(columns=['Players', \"Player_ID\"], inplace=True)\n",
    "#     m_bw = m_white.concat(players_id, left_on=[\"Black\"], right_on=['Players'])\n",
    "#     m_bw['Black_ID'] = m_bw['Player_ID']\n",
    "#     m_bw.drop(columns=['Players', \"Player_ID\"], inplace=True)\n",
    "#     df_players = m_bw\n",
    "#     return df_players"
   ]
  },
  {
   "cell_type": "code",
   "execution_count": null,
   "id": "80c28929",
   "metadata": {},
   "outputs": [],
   "source": [
    "#set.union(set(df_players['White']),(set(df_players['Black'])))"
   ]
  },
  {
   "cell_type": "markdown",
   "id": "27cff400",
   "metadata": {},
   "source": [
    "## Games"
   ]
  },
  {
   "cell_type": "code",
   "execution_count": null,
   "id": "e7efe1b6",
   "metadata": {},
   "outputs": [],
   "source": [
    "# def player_ids_to_games(df_games):   \n",
    "#     df_games = df_games.merge(players_id, left_on='White', right_on='Players')\n",
    "#     df_games = df_games.merge(players_id, left_on='Black', right_on='Players')\n",
    "#     df_games.drop(columns=['Players_x', 'Players_y'], inplace=True) #optionally drop White, Black columns\n",
    "#     df_games.rename(columns = {'Game_ID_y' : 'Game_ID', 'Player_ID_x': 'White_ID', 'Player_ID_y': 'Black_ID'}, inplace=True)\n",
    "#     return df_games"
   ]
  },
  {
   "cell_type": "code",
   "execution_count": null,
   "id": "da480de1",
   "metadata": {
    "scrolled": true
   },
   "outputs": [],
   "source": [
    "df_games = pd.DataFrame(games)\n",
    "#TODO date to datetime\n",
    "\n",
    "# def game_id(input_df):\n",
    "#     '''generates IDs for df_games'''\n",
    "#     input_df[\"old_ID\"] = input_df[\"Game_ID\"]\n",
    "#     input_df['Game_ID'] = input_df['Game_ID'].apply(short_id_gen)\n",
    "#     return df_games\n",
    "\n",
    "def game_id():\n",
    "    df_games[\"old_ID\"] = df_games[\"Game_ID\"]\n",
    "    df_games[\"Game_ID\"] = df_games['Game_ID'].apply(short_id_gen)\n",
    "    \n",
    "    return df_games\n",
    "\n",
    "\n"
   ]
  },
  {
   "cell_type": "code",
   "execution_count": null,
   "id": "5c9592ed",
   "metadata": {},
   "outputs": [],
   "source": [
    "game_id()"
   ]
  },
  {
   "cell_type": "code",
   "execution_count": null,
   "id": "8e01f89f",
   "metadata": {},
   "outputs": [],
   "source": [
    "#     data = [df_games[\"Game_ID\"], df_games[\"old_ID\"]]\n",
    "#     headers = [\"Game_ID\", \"old_ID\"]\n",
    "#     df3 = pd.concat(data, axis=1, keys=headers)\n",
    "#     return df3\n",
    "\n",
    "# def game_ids(df_games):\n",
    "#     old_and_new_ids()\n",
    "    \n",
    "#     # merge df_games with players_id\n",
    "#     df_games = df_games.merge(players_id, left_on='White', right_on='Players')\n",
    "#     df_games = df_games.merge(players_id, left_on='Black', right_on='Players')\n",
    "#     df_games.drop(columns=['Players_x', 'Players_y'], inplace=True) #optionally drop White, Black columns\n",
    "#     df_games.rename(columns = {'Game_ID_y' : 'Game_ID', 'Player_ID_x': 'White_ID', 'Player_ID_y': 'Black_ID'}, inplace=True)\n",
    "    \n",
    "#     return df_games\n",
    "\n",
    "# def merging_b_w_ids(df_games):\n",
    "#     '''returns a df_games with additional White_ID, Black_ID'''\n",
    "#     df_games[\"old_ID\"] = df_games[\"Game_ID\"]\n",
    "#     df_games[\"Game_ID\"] = game_id(df_games)\n",
    "    \n",
    "#     df_games = df_games.merge(players_id, left_on='White', right_on='Players')\n",
    "#     df_games = df_games.merge(players_id, left_on='Black', right_on='Players')\n",
    "#     df_games.drop(columns=['Players_x', 'Players_y'], inplace=True) #optionally drop White, Black columns\n",
    "#     df_games.rename(columns = {'Game_ID_y' : 'Game_ID', 'Player_ID_x': 'White_ID', 'Player_ID_y': 'Black_ID'}, inplace=True)\n",
    "#     return df_games"
   ]
  },
  {
   "cell_type": "code",
   "execution_count": null,
   "id": "829dd40f",
   "metadata": {},
   "outputs": [],
   "source": [
    "games_dict = df_games.to_dict()"
   ]
  },
  {
   "cell_type": "code",
   "execution_count": null,
   "id": "e7417fdb",
   "metadata": {},
   "outputs": [],
   "source": [
    "'Game_ID' and 'old_ID' in games_dict.keys()"
   ]
  },
  {
   "cell_type": "code",
   "execution_count": null,
   "id": "5be79895",
   "metadata": {},
   "outputs": [],
   "source": [
    "games_dict.keys()"
   ]
  },
  {
   "cell_type": "code",
   "execution_count": null,
   "id": "545ae101",
   "metadata": {},
   "outputs": [],
   "source": [
    "df_games"
   ]
  },
  {
   "cell_type": "markdown",
   "id": "aefee548",
   "metadata": {},
   "source": [
    "## Moves"
   ]
  },
  {
   "cell_type": "code",
   "execution_count": null,
   "id": "fabb589e",
   "metadata": {},
   "outputs": [],
   "source": [
    "df_moves = pd.DataFrame(moves_log_dict)"
   ]
  },
  {
   "cell_type": "code",
   "execution_count": null,
   "id": "30af6874",
   "metadata": {},
   "outputs": [],
   "source": [
    "def move_id(df_moves, df_games):  \n",
    "    data = [df_games[\"Game_ID\"], df_games[\"old_ID\"]]\n",
    "    headers = [\"Game_ID\", \"old_ID\"]\n",
    "    df = pd.concat(data, axis=1, keys=headers)\n",
    "    merging = df_moves.merge(df, how=\"left\", left_on=\"Game_ID\", right_on=\"old_ID\")\n",
    "    merging.drop(columns=[\"Game_ID_x\", \"old_ID\"], inplace=True)\n",
    "    merging.rename(columns = {'Game_ID_y' : 'Game_ID'}, inplace = True)\n",
    "    merging.insert(0, \"Moves_ID\", merging.apply(lambda row: f\"{row.Game_ID }-{row.turn}-{row.Halfmove_clock}\", axis=1))\n",
    "    df_moves = merging\n",
    "    return df_moves"
   ]
  },
  {
   "cell_type": "code",
   "execution_count": null,
   "id": "e98766e1",
   "metadata": {},
   "outputs": [],
   "source": [
    "move_id(df_moves, df_games)"
   ]
  },
  {
   "cell_type": "code",
   "execution_count": null,
   "id": "e255af63",
   "metadata": {
    "scrolled": true
   },
   "outputs": [],
   "source": [
    "pgn2 = open(\"../raw_data/Fics_data_pc_data.pgn\", encoding='UTF-8')  # always a Comp vs Player\n",
    "\n",
    "game_string_list = []\n",
    "game_counter = 0\n",
    "\n",
    "while True: \n",
    "    \n",
    "    game = chess.pgn.read_game(pgn2)\n",
    "    game_string = str(game)\n",
    "    game_string_list.append(game_string)\n",
    "    \n",
    "    game_counter += 1\n",
    "    if game_counter == 50:  # number of games to read        \n",
    "        break\n",
    "\n",
    "print(game_string_list[15])"
   ]
  },
  {
   "cell_type": "code",
   "execution_count": null,
   "id": "2a2315b6",
   "metadata": {},
   "outputs": [],
   "source": [
    "game.headers[\"Time\"]"
   ]
  },
  {
   "cell_type": "markdown",
   "id": "d6460489",
   "metadata": {},
   "source": [
    "# search"
   ]
  },
  {
   "cell_type": "code",
   "execution_count": null,
   "id": "6db5996b",
   "metadata": {},
   "outputs": [],
   "source": [
    "def search_df(df, column, value):\n",
    "    try:\n",
    "        index = np.where(df[column] == value)\n",
    "        df = df.iloc[index]\n",
    "        if len(df) == 0:\n",
    "            return f'No games found for {value}.'\n",
    "        return df\n",
    "    except KeyError as e:\n",
    "        print(e, f'not found.')"
   ]
  },
  {
   "cell_type": "code",
   "execution_count": null,
   "id": "ee3db7ee",
   "metadata": {},
   "outputs": [],
   "source": [
    "search_df(df_moves, 'ECO', 'A01')"
   ]
  },
  {
   "cell_type": "code",
   "execution_count": null,
   "id": "36de64c1",
   "metadata": {},
   "outputs": [],
   "source": [
    "move1 = chess.Move.from_uci(uci=\"g8f6\")\n",
    "move1"
   ]
  },
  {
   "cell_type": "code",
   "execution_count": null,
   "id": "180c64f0",
   "metadata": {},
   "outputs": [],
   "source": [
    "# move = df_moves[\"FEN_moves\"]\n",
    "# board = chess.Board(move)\n",
    "# board"
   ]
  },
  {
   "cell_type": "code",
   "execution_count": null,
   "id": "9ebd01c2",
   "metadata": {},
   "outputs": [],
   "source": [
    "#board.lan(move=move1)"
   ]
  },
  {
   "cell_type": "code",
   "execution_count": null,
   "id": "e5d577c4",
   "metadata": {},
   "outputs": [],
   "source": [
    "positions = board.piece_map()"
   ]
  },
  {
   "cell_type": "code",
   "execution_count": null,
   "id": "dedc6f5d",
   "metadata": {
    "scrolled": true
   },
   "outputs": [],
   "source": [
    "PIECES = list(set((val) for val in positions.values()))\n",
    "PIECES"
   ]
  },
  {
   "cell_type": "code",
   "execution_count": null,
   "id": "7134c0fd",
   "metadata": {},
   "outputs": [],
   "source": [
    "SQUARES = [i for i in range(64)]"
   ]
  },
  {
   "cell_type": "code",
   "execution_count": null,
   "id": "3bcb3bc9",
   "metadata": {},
   "outputs": [],
   "source": [
    "for square in SQUARES:\n",
    "    print(square)"
   ]
  },
  {
   "cell_type": "code",
   "execution_count": null,
   "id": "01348c07",
   "metadata": {},
   "outputs": [],
   "source": [
    "54 in positions.keys()"
   ]
  },
  {
   "cell_type": "code",
   "execution_count": null,
   "id": "b6162bbd",
   "metadata": {},
   "outputs": [],
   "source": [
    "bitmap_board_dict = {}\n",
    "\n",
    "for piece in PIECES:\n",
    "    bitmap_board = {}\n",
    "    for square in SQUARES:\n",
    "        if square in positions.keys():\n",
    "            if positions[square] == piece: \n",
    "                bitmap_board[square] = 1\n",
    "            else:\n",
    "                bitmap_board[square] = 0\n",
    "        else:\n",
    "            bitmap_board[square] = 0\n",
    "    bitmap_board_dict[str(piece)] = bitmap_board"
   ]
  },
  {
   "cell_type": "code",
   "execution_count": null,
   "id": "0850ecb3",
   "metadata": {},
   "outputs": [],
   "source": [
    "bitmap_board_dict"
   ]
  },
  {
   "cell_type": "code",
   "execution_count": null,
   "id": "bce21b24",
   "metadata": {},
   "outputs": [],
   "source": [
    "board.has_legal_en_passant()"
   ]
  },
  {
   "cell_type": "code",
   "execution_count": null,
   "id": "25f83700",
   "metadata": {},
   "outputs": [],
   "source": [
    "board.has_pseudo_legal_en_passant()"
   ]
  },
  {
   "cell_type": "code",
   "execution_count": null,
   "id": "3018b50f",
   "metadata": {},
   "outputs": [],
   "source": [
    "board.halfmove_clock"
   ]
  },
  {
   "cell_type": "markdown",
   "id": "88dafb86",
   "metadata": {},
   "source": [
    "# Data import with package"
   ]
  },
  {
   "cell_type": "code",
   "execution_count": null,
   "id": "b1b560d2",
   "metadata": {},
   "outputs": [],
   "source": []
  },
  {
   "cell_type": "code",
   "execution_count": null,
   "id": "f0522473",
   "metadata": {},
   "outputs": [],
   "source": [
    "player_df2, game_df2, move_df2 = data.ChessData().import_data(data_path='../raw_data/Fics_data_pc_data.pgn', \n",
    "                                                              import_lim=50)\n"
   ]
  },
  {
   "cell_type": "code",
   "execution_count": null,
   "id": "5d15f254",
   "metadata": {},
   "outputs": [],
   "source": [
    "move_df2"
   ]
  },
  {
   "cell_type": "markdown",
   "id": "36b63495",
   "metadata": {},
   "source": [
    "## Binary vector representation for board"
   ]
  },
  {
   "cell_type": "code",
   "execution_count": null,
   "id": "8758b026",
   "metadata": {},
   "outputs": [],
   "source": [
    "df_test = pd.DataFrame(move_df2['Bitmap_moves'][0])"
   ]
  },
  {
   "cell_type": "code",
   "execution_count": null,
   "id": "6257ae8d",
   "metadata": {},
   "outputs": [],
   "source": [
    "df_test"
   ]
  },
  {
   "cell_type": "code",
   "execution_count": null,
   "id": "db59b388",
   "metadata": {},
   "outputs": [],
   "source": [
    "dict_wide = {}\n",
    "\n",
    "for index1, i in enumerate(df_test.columns):\n",
    "    for index2, j in enumerate(df_test.index):\n",
    "        dict_wide[str(i)+str(j)] = [df_test.iloc[index2, index1]]"
   ]
  },
  {
   "cell_type": "code",
   "execution_count": null,
   "id": "b510ebe0",
   "metadata": {},
   "outputs": [],
   "source": [
    "dict_wide"
   ]
  },
  {
   "cell_type": "code",
   "execution_count": null,
   "id": "03abff08",
   "metadata": {},
   "outputs": [],
   "source": [
    "pd.DataFrame(dict_wide)"
   ]
  },
  {
   "cell_type": "code",
   "execution_count": null,
   "id": "75d560b8",
   "metadata": {},
   "outputs": [],
   "source": [
    "from cc_detector.move import binary_board_df"
   ]
  },
  {
   "cell_type": "code",
   "execution_count": null,
   "id": "762e0e6c",
   "metadata": {},
   "outputs": [],
   "source": [
    "df_wide = binary_board_df(move_df2)\n",
    "#very inefficient so far (takes very long, probably needs to be redone differently)"
   ]
  },
  {
   "cell_type": "code",
   "execution_count": null,
   "id": "64952fa5",
   "metadata": {},
   "outputs": [],
   "source": [
    "df_wide"
   ]
  },
  {
   "cell_type": "code",
   "execution_count": null,
   "id": "774ba987",
   "metadata": {},
   "outputs": [],
   "source": []
  }
 ],
 "metadata": {
  "kernelspec": {
   "display_name": "Python 3 (ipykernel)",
   "language": "python",
   "name": "python3"
  },
  "language_info": {
   "codemirror_mode": {
    "name": "ipython",
    "version": 3
   },
   "file_extension": ".py",
   "mimetype": "text/x-python",
   "name": "python",
   "nbconvert_exporter": "python",
   "pygments_lexer": "ipython3",
   "version": "3.8.6"
  },
  "toc": {
   "base_numbering": 1,
   "nav_menu": {},
   "number_sections": true,
   "sideBar": true,
   "skip_h1_title": false,
   "title_cell": "Table of Contents",
   "title_sidebar": "Contents",
   "toc_cell": false,
   "toc_position": {},
   "toc_section_display": true,
   "toc_window_display": false
  },
  "varInspector": {
   "cols": {
    "lenName": 16,
    "lenType": 16,
    "lenVar": 40
   },
   "kernels_config": {
    "python": {
     "delete_cmd_postfix": "",
     "delete_cmd_prefix": "del ",
     "library": "var_list.py",
     "varRefreshCmd": "print(var_dic_list())"
    },
    "r": {
     "delete_cmd_postfix": ") ",
     "delete_cmd_prefix": "rm(",
     "library": "var_list.r",
     "varRefreshCmd": "cat(var_dic_list()) "
    }
   },
   "types_to_exclude": [
    "module",
    "function",
    "builtin_function_or_method",
    "instance",
    "_Feature"
   ],
   "window_display": false
  }
 },
 "nbformat": 4,
 "nbformat_minor": 5
}
